{
 "cells": [
  {
   "cell_type": "code",
   "execution_count": 5,
   "id": "c55e1e2b",
   "metadata": {},
   "outputs": [
    {
     "name": "stdout",
     "output_type": "stream",
     "text": [
      "Test accuracy: 0.9750\n"
     ]
    }
   ],
   "source": [
    "import numpy as np  # Import NumPy for numerical operations\n",
    "from sklearn.datasets import fetch_openml  # Import function to load datasets\n",
    "from sklearn.model_selection import train_test_split  # Import function to split data\n",
    "from sklearn.preprocessing import StandardScaler  # Import function for data scaling\n",
    "from sklearn.neural_network import MLPClassifier  # Import multi-layer perceptron classifier\n",
    "from sklearn.metrics import accuracy_score  # Import function to calculate accuracy\n",
    "\n",
    "# Load the MNIST dataset (handwritten digits)\n",
    "mnist = fetch_openml('mnist_784', version=1, parser='auto')  # Fetch the dataset\n",
    "X, y = mnist['data'], mnist['target'].astype(int)  # Separate features (X) and labels (y)\n",
    "\n",
    "# Split the data into training and testing sets (80% training, 20% testing)\n",
    "X_train, X_test, y_train, y_test = train_test_split(X, y, test_size=0.2, random_state=42)\n",
    "\n",
    "# Standardize the data (scale features to have mean 0 and variance 1)\n",
    "scaler = StandardScaler()  # Create a scaler object\n",
    "X_train = scaler.fit_transform(X_train)  # Fit the scaler to the training data and transform it\n",
    "X_test = scaler.transform(X_test)  # Transform the test data using the same scaler\n",
    "\n",
    "# Create and train the neural network\n",
    "mlp = MLPClassifier(hidden_layer_sizes=(128, 64), max_iter=300, tol=1e-4, random_state=42)\n",
    "# Initialize the MLPClassifier with:\n",
    "# - 128 neurons in the first hidden layer\n",
    "# - 64 neurons in the second hidden layer\n",
    "# - max_iter: maximum number of iterations for training\n",
    "# - tol: tolerance for stopping criteria (when to stop training)\n",
    "# - random_state: for reproducibility of results\n",
    "\n",
    "mlp.fit(X_train, y_train)  # Train the model using the training data\n",
    "\n",
    "# Evaluate the model on the test set\n",
    "y_pred = mlp.predict(X_test)  # Make predictions on the test data\n",
    "accuracy = accuracy_score(y_test, y_pred)  # Calculate accuracy by comparing predictions to true labels\n",
    "print(f'Test accuracy: {accuracy:.4f}')  # Print the accuracy formatted to four decimal places\n"
   ]
  },
  {
   "cell_type": "code",
   "execution_count": null,
   "id": "1c96dcb3",
   "metadata": {},
   "outputs": [],
   "source": []
  },
  {
   "cell_type": "code",
   "execution_count": null,
   "id": "7180212b",
   "metadata": {},
   "outputs": [],
   "source": []
  }
 ],
 "metadata": {
  "kernelspec": {
   "display_name": "Python 3 (ipykernel)",
   "language": "python",
   "name": "python3"
  },
  "language_info": {
   "codemirror_mode": {
    "name": "ipython",
    "version": 3
   },
   "file_extension": ".py",
   "mimetype": "text/x-python",
   "name": "python",
   "nbconvert_exporter": "python",
   "pygments_lexer": "ipython3",
   "version": "3.11.5"
  }
 },
 "nbformat": 4,
 "nbformat_minor": 5
}

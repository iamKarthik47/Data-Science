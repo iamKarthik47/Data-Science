{
 "cells": [
  {
   "cell_type": "code",
   "execution_count": 1,
   "id": "d29c0979",
   "metadata": {},
   "outputs": [
    {
     "name": "stdout",
     "output_type": "stream",
     "text": [
      "    Duration        Date  Pulse  Maxpulse  Calories\n",
      "0         45  2020-12-01    110       130     409.1\n",
      "1         60  2020-12-02    117       145     479.0\n",
      "2         60  2020-12-03    103       135     340.0\n",
      "3         45  2020-12-04    109       175     282.4\n",
      "4         45  2020-12-05    117       148     406.0\n",
      "5         60  2020-12-06    102       127     300.0\n",
      "6         60  2020-12-07    110       136     374.0\n",
      "7         60  2020-12-08    104       134     253.3\n",
      "8         30  2020-12-09    109       133     195.1\n",
      "9         60  2020-12-10     98       124     269.0\n",
      "10        60  2020-12-11    103       147     329.3\n",
      "11        60  2020-12-12    100       120     250.7\n",
      "12        60  2020-12-12    100       120     250.7\n",
      "13        60  2020-12-13    106       128     345.3\n",
      "14        60  2020-12-14    104       132     379.3\n",
      "15        60  2020-12-15     98       123     275.0\n",
      "16        60  2020-12-16     98       120     215.2\n",
      "17        60  2020-12-17    100       120     300.0\n",
      "18        45  2020-12-18     90       112       NaN\n",
      "19        60  2020-12-19    103       123     323.0\n",
      "20        45  2020-12-20     97       125     243.0\n",
      "21        60  2020-12-21    108       131     364.2\n",
      "22        45         NaN    100       119     282.0\n",
      "23        60  2020-12-23    130       101     300.0\n",
      "24        45  2020-12-24    105       132     246.0\n",
      "25        60  2020-12-25    102       126     334.5\n",
      "26        60  2020-12-26    100       120     250.0\n",
      "27        60  2020-12-27     92       118     241.0\n",
      "28        60  2020-12-28    103       132       NaN\n",
      "29        60  2020-12-29    100       132     280.0\n",
      "30        60  2020-12-30    102       129     380.3\n",
      "31        60  2020-12-31     92       115     243.0\n"
     ]
    }
   ],
   "source": [
    "#Load the CSV into a DataFrame\n",
    "import pandas as pd\n",
    "\n",
    "df = pd.read_csv('data.csv')\n",
    "\n",
    "print(df.to_string()) "
   ]
  },
  {
   "cell_type": "code",
   "execution_count": 2,
   "id": "65a20a1e",
   "metadata": {},
   "outputs": [
    {
     "name": "stdout",
     "output_type": "stream",
     "text": [
      "    Duration        Date  Pulse  Maxpulse  Calories\n",
      "0         45  2020-12-01    110       130     409.1\n",
      "1         60  2020-12-02    117       145     479.0\n",
      "2         60  2020-12-03    103       135     340.0\n",
      "3         45  2020-12-04    109       175     282.4\n",
      "4         45  2020-12-05    117       148     406.0\n",
      "5         60  2020-12-06    102       127     300.0\n",
      "6         60  2020-12-07    110       136     374.0\n",
      "7         60  2020-12-08    104       134     253.3\n",
      "8         30  2020-12-09    109       133     195.1\n",
      "9         60  2020-12-10     98       124     269.0\n",
      "10        60  2020-12-11    103       147     329.3\n",
      "11        60  2020-12-12    100       120     250.7\n",
      "12        60  2020-12-12    100       120     250.7\n",
      "13        60  2020-12-13    106       128     345.3\n",
      "14        60  2020-12-14    104       132     379.3\n",
      "15        60  2020-12-15     98       123     275.0\n",
      "16        60  2020-12-16     98       120     215.2\n",
      "17        60  2020-12-17    100       120     300.0\n",
      "19        60  2020-12-19    103       123     323.0\n",
      "20        45  2020-12-20     97       125     243.0\n",
      "21        60  2020-12-21    108       131     364.2\n",
      "23        60  2020-12-23    130       101     300.0\n",
      "24        45  2020-12-24    105       132     246.0\n",
      "25        60  2020-12-25    102       126     334.5\n",
      "26        60  2020-12-26    100       120     250.0\n",
      "27        60  2020-12-27     92       118     241.0\n",
      "29        60  2020-12-29    100       132     280.0\n",
      "30        60  2020-12-30    102       129     380.3\n",
      "31        60  2020-12-31     92       115     243.0\n"
     ]
    }
   ],
   "source": [
    "#Return a new Data Frame with no empty cells\n",
    "import pandas as pd\n",
    "\n",
    "df = pd.read_csv('data.csv')\n",
    "\n",
    "new_df = df.dropna()\n",
    "\n",
    "print(new_df.to_string())"
   ]
  },
  {
   "cell_type": "code",
   "execution_count": 3,
   "id": "2ed3672a",
   "metadata": {},
   "outputs": [
    {
     "name": "stdout",
     "output_type": "stream",
     "text": [
      "    Duration       Date  Pulse  Maxpulse  Calories\n",
      "0         45 2020-12-01    110       130     409.1\n",
      "1         60 2020-12-02    117       145     479.0\n",
      "2         60 2020-12-03    103       135     340.0\n",
      "3         45 2020-12-04    109       175     282.4\n",
      "4         45 2020-12-05    117       148     406.0\n",
      "5         60 2020-12-06    102       127     300.0\n",
      "6         60 2020-12-07    110       136     374.0\n",
      "7         60 2020-12-08    104       134     253.3\n",
      "8         30 2020-12-09    109       133     195.1\n",
      "9         60 2020-12-10     98       124     269.0\n",
      "10        60 2020-12-11    103       147     329.3\n",
      "11        60 2020-12-12    100       120     250.7\n",
      "12        60 2020-12-12    100       120     250.7\n",
      "13        60 2020-12-13    106       128     345.3\n",
      "14        60 2020-12-14    104       132     379.3\n",
      "15        60 2020-12-15     98       123     275.0\n",
      "16        60 2020-12-16     98       120     215.2\n",
      "17        60 2020-12-17    100       120     300.0\n",
      "18        45 2020-12-18     90       112       NaN\n",
      "19        60 2020-12-19    103       123     323.0\n",
      "20        45 2020-12-20     97       125     243.0\n",
      "21        60 2020-12-21    108       131     364.2\n",
      "22        45        NaT    100       119     282.0\n",
      "23        60 2020-12-23    130       101     300.0\n",
      "24        45 2020-12-24    105       132     246.0\n",
      "25        60 2020-12-25    102       126     334.5\n",
      "26        60 2020-12-26    100       120     250.0\n",
      "27        60 2020-12-27     92       118     241.0\n",
      "28        60 2020-12-28    103       132       NaN\n",
      "29        60 2020-12-29    100       132     280.0\n",
      "30        60 2020-12-30    102       129     380.3\n",
      "31        60 2020-12-31     92       115     243.0\n"
     ]
    }
   ],
   "source": [
    "#Convert to date\n",
    "import pandas as pd\n",
    "\n",
    "df = pd.read_csv('data.csv')\n",
    "\n",
    "# Convert 'Date' column to datetime, handling errors by coercing them to NaT\n",
    "df['Date'] = pd.to_datetime(df['Date'], errors='coerce')\n",
    "\n",
    "print(df.to_string())"
   ]
  },
  {
   "cell_type": "code",
   "execution_count": 4,
   "id": "e7924337",
   "metadata": {},
   "outputs": [
    {
     "name": "stdout",
     "output_type": "stream",
     "text": [
      "    Duration        Date  Pulse  Maxpulse  Calories\n",
      "0         45  2020-12-01    110       130     409.1\n",
      "1         60  2020-12-02    117       145     479.0\n",
      "2         60  2020-12-03    103       135     340.0\n",
      "3         45  2020-12-04    109       175     282.4\n",
      "4         45  2020-12-05    117       148     406.0\n",
      "5         60  2020-12-06    102       127     300.0\n",
      "6         60  2020-12-07    110       136     374.0\n",
      "7         45  2020-12-08    104       134     253.3\n",
      "8         30  2020-12-09    109       133     195.1\n",
      "9         60  2020-12-10     98       124     269.0\n",
      "10        60  2020-12-11    103       147     329.3\n",
      "11        60  2020-12-12    100       120     250.7\n",
      "12        60  2020-12-12    100       120     250.7\n",
      "13        60  2020-12-13    106       128     345.3\n",
      "14        60  2020-12-14    104       132     379.3\n",
      "15        60  2020-12-15     98       123     275.0\n",
      "16        60  2020-12-16     98       120     215.2\n",
      "17        60  2020-12-17    100       120     300.0\n",
      "18        45  2020-12-18     90       112       NaN\n",
      "19        60  2020-12-19    103       123     323.0\n",
      "20        45  2020-12-20     97       125     243.0\n",
      "21        60  2020-12-21    108       131     364.2\n",
      "22        45         NaN    100       119     282.0\n",
      "23        60  2020-12-23    130       101     300.0\n",
      "24        45  2020-12-24    105       132     246.0\n",
      "25        60  2020-12-25    102       126     334.5\n",
      "26        60  2020-12-26    100       120     250.0\n",
      "27        60  2020-12-27     92       118     241.0\n",
      "28        60  2020-12-28    103       132       NaN\n",
      "29        60  2020-12-29    100       132     280.0\n",
      "30        60  2020-12-30    102       129     380.3\n",
      "31        60  2020-12-31     92       115     243.0\n"
     ]
    }
   ],
   "source": [
    "#Fixing Wrong Data\n",
    "import pandas as pd\n",
    "\n",
    "df = pd.read_csv('data.csv')\n",
    "\n",
    "df.loc[7,'Duration'] = 45\n",
    "\n",
    "print(df.to_string())"
   ]
  },
  {
   "cell_type": "code",
   "execution_count": 5,
   "id": "de50c338",
   "metadata": {},
   "outputs": [
    {
     "name": "stdout",
     "output_type": "stream",
     "text": [
      "0     False\n",
      "1     False\n",
      "2     False\n",
      "3     False\n",
      "4     False\n",
      "5     False\n",
      "6     False\n",
      "7     False\n",
      "8     False\n",
      "9     False\n",
      "10    False\n",
      "11    False\n",
      "12     True\n",
      "13    False\n",
      "14    False\n",
      "15    False\n",
      "16    False\n",
      "17    False\n",
      "18    False\n",
      "19    False\n",
      "20    False\n",
      "21    False\n",
      "22    False\n",
      "23    False\n",
      "24    False\n",
      "25    False\n",
      "26    False\n",
      "27    False\n",
      "28    False\n",
      "29    False\n",
      "30    False\n",
      "31    False\n",
      "dtype: bool\n"
     ]
    }
   ],
   "source": [
    "#Removing Duplicates\n",
    "import pandas as pd\n",
    "\n",
    "df = pd.read_csv('data.csv')\n",
    "\n",
    "print(df.duplicated())"
   ]
  },
  {
   "cell_type": "code",
   "execution_count": 6,
   "id": "6bd5ffc0",
   "metadata": {},
   "outputs": [
    {
     "name": "stdout",
     "output_type": "stream",
     "text": [
      "          Duration     Pulse  Maxpulse  Calories\n",
      "Duration  1.000000 -0.114249 -0.239772  0.179291\n",
      "Pulse    -0.114249  1.000000  0.276583  0.513186\n",
      "Maxpulse -0.239772  0.276583  1.000000  0.357460\n",
      "Calories  0.179291  0.513186  0.357460  1.000000\n"
     ]
    }
   ],
   "source": [
    "# Data Correlations\n",
    "import pandas as pd\n",
    "\n",
    "# Load the CSV file into a DataFrame\n",
    "df = pd.read_csv('data.csv')\n",
    "\n",
    "# Filter to keep only numeric columns\n",
    "df_numeric = df.select_dtypes(include=['number'])\n",
    "\n",
    "# Print the correlation matrix\n",
    "print(df_numeric.corr())"
   ]
  },
  {
   "cell_type": "code",
   "execution_count": null,
   "id": "fd98cfd0",
   "metadata": {},
   "outputs": [],
   "source": []
  }
 ],
 "metadata": {
  "kernelspec": {
   "display_name": "Python 3 (ipykernel)",
   "language": "python",
   "name": "python3"
  },
  "language_info": {
   "codemirror_mode": {
    "name": "ipython",
    "version": 3
   },
   "file_extension": ".py",
   "mimetype": "text/x-python",
   "name": "python",
   "nbconvert_exporter": "python",
   "pygments_lexer": "ipython3",
   "version": "3.11.5"
  }
 },
 "nbformat": 4,
 "nbformat_minor": 5
}

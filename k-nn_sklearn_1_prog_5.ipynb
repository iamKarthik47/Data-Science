{
 "cells": [
  {
   "cell_type": "code",
   "execution_count": 3,
   "id": "49a832c5",
   "metadata": {},
   "outputs": [
    {
     "name": "stdout",
     "output_type": "stream",
     "text": [
      "Accuracy of k-NN with k=3: 1.00\n"
     ]
    }
   ],
   "source": [
    "import numpy as np\n",
    "from sklearn.datasets import load_iris\n",
    "from sklearn.model_selection import train_test_split\n",
    "from sklearn.neighbors import KNeighborsClassifier\n",
    "from sklearn.metrics import accuracy_score\n",
    "\n",
    "\n",
    "#Load the iris dataset\n",
    "data=load_iris()\n",
    "X=data.data #Features\n",
    "y=data.target #Target(labels)\n",
    "\n",
    "\n",
    "#split the dataset into training and testing sets\n",
    "\n",
    "X_train,X_test,y_train,y_test  =train_test_split(X,y,test_size=0.2,random_state=42)\n",
    "\n",
    "\n",
    "#initialize the k-NN classifier with a specified value of k\n",
    "\n",
    "k=3 #you can change this value as needed\n",
    "\n",
    "knn=KNeighborsClassifier(n_neighbors=k)\n",
    "\n",
    "#Fit the model on the training data\n",
    "\n",
    "knn.fit(X_train,y_train)\n",
    "\n",
    "#Make predicctions on the test data\n",
    "\n",
    "y_pred=knn.predict(X_test)\n",
    "\n",
    "#Calculate the accuracy of the model\n",
    "\n",
    "accuracy=accuracy_score(y_test,y_pred)\n",
    "print(f'Accuracy of k-NN with k={k}: {accuracy:.2f}')"
   ]
  },
  {
   "cell_type": "code",
   "execution_count": 4,
   "id": "ca08802c",
   "metadata": {},
   "outputs": [
    {
     "name": "stdout",
     "output_type": "stream",
     "text": [
      "Accuracy of k-NN with k=3: 1.00\n"
     ]
    }
   ],
   "source": [
    "# Import the tools we need\n",
    "import numpy as np\n",
    "from sklearn.datasets import load_iris  # This helps us get the Iris flower data\n",
    "from sklearn.model_selection import train_test_split  # This helps us split the data into training and testing parts\n",
    "from sklearn.neighbors import KNeighborsClassifier  # This is our k-NN classifier tool\n",
    "from sklearn.metrics import accuracy_score  # This helps us check how accurate our model is\n",
    "\n",
    "# Load the Iris dataset, which is a bunch of data about flowers\n",
    "data = load_iris()\n",
    "X = data.data  # This is the part of the data with the flower features (like petal length)\n",
    "y = data.target  # This is the part of the data with the flower types (like Iris-setosa, Iris-versicolor, etc.)\n",
    "\n",
    "# Split the data into two parts: one for training the model and one for testing it\n",
    "X_train, X_test, y_train, y_test = train_test_split(X, y, test_size=0.2, random_state=42)\n",
    "# 80% of the data is used for training, and 20% is used for testing\n",
    "\n",
    "# Choose how many neighbors we want to consider for making predictions\n",
    "k = 3  # We use 3 neighbors in this example\n",
    "\n",
    "# Create the k-NN classifier with the chosen number of neighbors\n",
    "knn = KNeighborsClassifier(n_neighbors=k)\n",
    "\n",
    "# Train the k-NN classifier using the training data\n",
    "knn.fit(X_train, y_train)\n",
    "\n",
    "# Use the trained model to make predictions on the testing data\n",
    "y_pred = knn.predict(X_test)\n",
    "\n",
    "# Check how well our model did by comparing the predicted results to the real ones\n",
    "accuracy = accuracy_score(y_test, y_pred)\n",
    "print(f'Accuracy of k-NN with k={k}: {accuracy:.2f}')\n",
    "# This tells us how accurate our model is by showing a number between 0 and 1 (0 is terrible, 1 is perfect)\n"
   ]
  },
  {
   "cell_type": "code",
   "execution_count": null,
   "id": "54e3b280",
   "metadata": {},
   "outputs": [],
   "source": []
  }
 ],
 "metadata": {
  "kernelspec": {
   "display_name": "Python 3 (ipykernel)",
   "language": "python",
   "name": "python3"
  },
  "language_info": {
   "codemirror_mode": {
    "name": "ipython",
    "version": 3
   },
   "file_extension": ".py",
   "mimetype": "text/x-python",
   "name": "python",
   "nbconvert_exporter": "python",
   "pygments_lexer": "ipython3",
   "version": "3.11.5"
  }
 },
 "nbformat": 4,
 "nbformat_minor": 5
}

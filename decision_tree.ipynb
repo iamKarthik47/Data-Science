{
 "cells": [
  {
   "cell_type": "code",
   "execution_count": 4,
   "id": "e5563f47",
   "metadata": {},
   "outputs": [
    {
     "name": "stdout",
     "output_type": "stream",
     "text": [
      "Accuracy of the decision tree moddel :  1.00\n"
     ]
    }
   ],
   "source": [
    "# import necessary libraries\n",
    "import numpy as np\n",
    "from sklearn.datasets import load_iris\n",
    "from sklearn.model_selection import train_test_split\n",
    "from sklearn.tree import DecisionTreeClassifier\n",
    "from sklearn.metrics import accuracy_score\n",
    "\n",
    "#load the iris dataset\n",
    "data=load_iris()\n",
    "x=data.data\n",
    "y=data.target\n",
    "x_train,x_test,y_train,y_test=train_test_split(x,y,test_size=0.2,random_state=42)\n",
    "dt_model=DecisionTreeClassifier()\n",
    "dt_model.fit(x_train,y_train)\n",
    "y_pred=dt_model.predict(x_test)\n",
    "accuracy=accuracy_score(y_test,y_pred)\n",
    "print(f\"Accuracy of the decision tree moddel : {accuracy : .2f}\")"
   ]
  },
  {
   "cell_type": "code",
   "execution_count": 14,
   "id": "ff190952",
   "metadata": {},
   "outputs": [
    {
     "name": "stdout",
     "output_type": "stream",
     "text": [
      "Data Preview:\n",
      "    sepal.length  sepal.width  petal.length  petal.width variety\n",
      "0           5.1          3.5           1.4          0.2  Setosa\n",
      "1           4.9          3.0           1.4          0.2  Setosa\n",
      "2           4.7          3.2           1.3          0.2  Setosa\n",
      "3           4.6          3.1           1.5          0.2  Setosa\n",
      "4           5.0          3.6           1.4          0.2  Setosa\n",
      "Accuracy of the Decision Tree model: 1.00\n"
     ]
    }
   ],
   "source": [
    "# Import necessary libraries\n",
    "import pandas as pd\n",
    "from sklearn.model_selection import train_test_split\n",
    "from sklearn.tree import DecisionTreeClassifier\n",
    "from sklearn.metrics import accuracy_score\n",
    "\n",
    "def main(csv_file):\n",
    "    try:\n",
    "        # Load the dataset from a CSV file\n",
    "        data = pd.read_csv(csv_file)\n",
    "\n",
    "        # Check the first few rows of the dataset\n",
    "        print(\"Data Preview:\\n\", data.head())\n",
    "\n",
    "        # Assume the last column is the target variable\n",
    "        X = data.iloc[:, :-1]  # Features\n",
    "        y = data.iloc[:, -1]   # Target labels\n",
    "\n",
    "        # Split the dataset into training and testing sets\n",
    "        X_train, X_test, y_train, y_test = train_test_split(X, y, test_size=0.2, random_state=42)\n",
    "\n",
    "        # Initialize the Decision Tree classifier\n",
    "        dt_model = DecisionTreeClassifier()\n",
    "\n",
    "        # Fit the model on the training data\n",
    "        dt_model.fit(X_train, y_train)\n",
    "\n",
    "        # Predict the labels for the test set\n",
    "        y_pred = dt_model.predict(X_test)\n",
    "\n",
    "        # Calculate the accuracy of the model\n",
    "        accuracy = accuracy_score(y_test, y_pred)\n",
    "\n",
    "        # Print the accuracy\n",
    "        print(f\"Accuracy of the Decision Tree model: {accuracy:.2f}\")\n",
    "\n",
    "    except FileNotFoundError:\n",
    "        print(\"Error: The specified CSV file was not found.\")\n",
    "    except pd.errors.EmptyDataError:\n",
    "        print(\"Error: The CSV file is empty.\")\n",
    "    except Exception as e:\n",
    "        print(f\"An error occurred: {e}\")\n",
    "\n",
    "if __name__ == \"__main__\":\n",
    "    # Replace 'iris.csv' with your actual CSV file name\n",
    "    main('iris.csv')\n"
   ]
  },
  {
   "cell_type": "code",
   "execution_count": null,
   "id": "d2b552c9",
   "metadata": {},
   "outputs": [],
   "source": []
  },
  {
   "cell_type": "code",
   "execution_count": null,
   "id": "007d1fd2",
   "metadata": {},
   "outputs": [],
   "source": []
  }
 ],
 "metadata": {
  "kernelspec": {
   "display_name": "Python 3 (ipykernel)",
   "language": "python",
   "name": "python3"
  },
  "language_info": {
   "codemirror_mode": {
    "name": "ipython",
    "version": 3
   },
   "file_extension": ".py",
   "mimetype": "text/x-python",
   "name": "python",
   "nbconvert_exporter": "python",
   "pygments_lexer": "ipython3",
   "version": "3.11.5"
  }
 },
 "nbformat": 4,
 "nbformat_minor": 5
}

{
 "cells": [
  {
   "cell_type": "code",
   "execution_count": 8,
   "id": "2585fceb",
   "metadata": {},
   "outputs": [
    {
     "name": "stdout",
     "output_type": "stream",
     "text": [
      "A \n",
      "[[2 4]\n",
      " [5 7]]\n",
      "  \n",
      "B \n",
      "[[4 6]\n",
      " [5 8]]\n",
      "Add\n",
      "[[ 6 10]\n",
      " [10 15]]\n",
      "Sub\n",
      "[[-2 -2]\n",
      " [ 0 -1]]\n",
      "MUL\n",
      "[[ 8 24]\n",
      " [25 56]]\n",
      "Matrix Multiplication\n",
      "[[28 44]\n",
      " [55 86]]\n",
      "Transpose\n",
      "[[2 5]\n",
      " [4 7]]\n"
     ]
    }
   ],
   "source": [
    "import numpy as np\n",
    "A=np.array([[2,4],[5,7]])\n",
    "B=np.array([[4,6],[5,8]])\n",
    "\n",
    "print(\"A \")\n",
    "\n",
    "print(A)\n",
    "print(\"  \")\n",
    "print(\"B \")\n",
    "print(B)\n",
    "\n",
    "\n",
    "#Addition\n",
    "print(\"Add\")\n",
    "C=A+B\n",
    "print(C)\n",
    "#SUBTRACTION\n",
    "print(\"Sub\")\n",
    "C=A-B\n",
    "print(C)\n",
    "\n",
    "#MULTIPICATION\n",
    "print(\"MUL\")\n",
    "C=A*B\n",
    "print(C)\n",
    "\n",
    "\n",
    "#MATRIX MULTIPICATION\n",
    "print(\"Matrix Multiplication\")\n",
    "C=np.dot(A,B)\n",
    "print(C)\n",
    "\n",
    "\n",
    "\n",
    "#Transpose\n",
    "print(\"Transpose\")\n",
    "A_Transpose=A.T\n",
    "print(A_Transpose)\n",
    "\n",
    "\n"
   ]
  },
  {
   "cell_type": "code",
   "execution_count": 1,
   "id": "eb9e26e7",
   "metadata": {},
   "outputs": [
    {
     "name": "stdout",
     "output_type": "stream",
     "text": [
      "Orginal matrix :\n",
      "[[1 2 3]\n",
      " [4 5 6]\n",
      " [7 8 9]]\n",
      "\n",
      "Reconstructed Matrix(with reduced dimensions):\n",
      "[[1. 2. 3.]\n",
      " [4. 5. 6.]\n",
      " [7. 8. 9.]]\n"
     ]
    }
   ],
   "source": [
    "import numpy as np\n",
    "# create a sample matrix\n",
    "X=np.array([[1,2,3],[4,5,6],[7,8,9]])\n",
    "# perform svd\n",
    "U,S,VT=np.linalg.svd(X)\n",
    "# choose the number of components to keep(eg,2)\n",
    "n_components=2\n",
    "# Reconstruct the matrix with reduced with reduced dimensions\n",
    "X_reconstructed=np.dot(U[:,:n_components],np.dot(np.diag(S[:n_components]),VT[:n_components,:]))\n",
    "print(\"Orginal matrix :\")\n",
    "print(X)\n",
    "print(\"\\nReconstructed Matrix(with reduced dimensions):\")\n",
    "print(X_reconstructed)"
   ]
  },
  {
   "cell_type": "code",
   "execution_count": null,
   "id": "fc7ff732",
   "metadata": {},
   "outputs": [],
   "source": []
  }
 ],
 "metadata": {
  "kernelspec": {
   "display_name": "Python 3 (ipykernel)",
   "language": "python",
   "name": "python3"
  },
  "language_info": {
   "codemirror_mode": {
    "name": "ipython",
    "version": 3
   },
   "file_extension": ".py",
   "mimetype": "text/x-python",
   "name": "python",
   "nbconvert_exporter": "python",
   "pygments_lexer": "ipython3",
   "version": "3.11.5"
  }
 },
 "nbformat": 4,
 "nbformat_minor": 5
}
